{
 "cells": [
  {
   "cell_type": "markdown",
   "metadata": {
    "id": "rMHYfjFvQT5O"
   },
   "source": [
    "<img src=\"https://www.ufpr.br/portalufpr/wp-content/uploads/2015/11/ufpr_25.jpg\" alt=\"Drawing\" width=\"100\"/>\n",
    "\n",
    "**Universidade Federal do Paraná**\n",
    "\n",
    "Programa de Pós-Graduação em Ciências Geodésicas (PPGCG)\n",
    "\n",
    "Disciplina: CGEO7009 - Desenvolvimento de Aplicações Geoespaciais\n",
    "\n",
    "Docente: Profa Dra. Silvana P. Camboim\n",
    "\n",
    "Discentes de Doutorado: Darlan M. Nunes | Fabíola Andrade Souza\n",
    "\n",
    "Data: 17/12/2021\n",
    "\n",
    "**Projeto ENERG!**\n",
    "\n",
    "<img src=\"https://energi.eletrica.ufpr.br/static/images/navbar/logo-colorido.svg\" alt=\"Drawing\" width=\"100\"/>\n",
    "\n",
    "---"
   ]
  },
  {
   "cell_type": "markdown",
   "metadata": {
    "id": "6isJpRKx6G8m"
   },
   "source": [
    "###**Bibliotecas**"
   ]
  },
  {
   "cell_type": "code",
   "execution_count": null,
   "metadata": {
    "id": "yRXFa_dbzGPA"
   },
   "outputs": [],
   "source": [
    "# Instalando as Bibliotecas necessárias\n",
    "!pip install streamlit\n",
    "!pip install ipykernel>=5.1.2\n",
    "!pip install pydeck\n",
    "!pip install pyngrok\n",
    "!pip install streamlit-folium\n",
    "!pip install geopandas\n",
    "!pip install psycopg2-binary"
   ]
  },
  {
   "cell_type": "markdown",
   "metadata": {
    "id": "v8LPMVZG2gM8"
   },
   "source": [
    "###**Preparando o ambiente no Google Drive**"
   ]
  },
  {
   "cell_type": "code",
   "execution_count": 1,
   "metadata": {
    "colab": {
     "base_uri": "https://localhost:8080/"
    },
    "executionInfo": {
     "elapsed": 18504,
     "status": "ok",
     "timestamp": 1639614975333,
     "user": {
      "displayName": "Darlan Nunes",
      "photoUrl": "https://lh3.googleusercontent.com/a-/AOh14GiTvuR3zuutCn9c9VTHiz2RkJ7-RGbhJnR4xQSUXtU=s64",
      "userId": "09349507494383749880"
     },
     "user_tz": 180
    },
    "id": "YY7oCmcM2efu",
    "outputId": "00a55567-a9d2-4d83-b1fe-0003d7345fcb"
   },
   "outputs": [
    {
     "ename": "ModuleNotFoundError",
     "evalue": "No module named 'google.colab'",
     "output_type": "error",
     "traceback": [
      "\u001b[0;31m---------------------------------------------------------------------------\u001b[0m",
      "\u001b[0;31mModuleNotFoundError\u001b[0m                       Traceback (most recent call last)",
      "\u001b[0;32m/var/folders/93/jp7gz1rj0sg95pqlydn2yhk40000gn/T/ipykernel_46763/3578270800.py\u001b[0m in \u001b[0;36m<module>\u001b[0;34m\u001b[0m\n\u001b[1;32m      1\u001b[0m \u001b[0;31m# Importando a biblioteca\u001b[0m\u001b[0;34m\u001b[0m\u001b[0;34m\u001b[0m\u001b[0m\n\u001b[0;32m----> 2\u001b[0;31m \u001b[0;32mfrom\u001b[0m \u001b[0mgoogle\u001b[0m\u001b[0;34m.\u001b[0m\u001b[0mcolab\u001b[0m \u001b[0;32mimport\u001b[0m \u001b[0mdrive\u001b[0m\u001b[0;34m\u001b[0m\u001b[0;34m\u001b[0m\u001b[0m\n\u001b[0m\u001b[1;32m      3\u001b[0m \u001b[0;34m\u001b[0m\u001b[0m\n\u001b[1;32m      4\u001b[0m \u001b[0;31m# Isso irá pedir sua autorização\u001b[0m\u001b[0;34m\u001b[0m\u001b[0;34m\u001b[0m\u001b[0m\n\u001b[1;32m      5\u001b[0m \u001b[0mdrive\u001b[0m\u001b[0;34m.\u001b[0m\u001b[0mmount\u001b[0m\u001b[0;34m(\u001b[0m\u001b[0;34m'/content/drive'\u001b[0m\u001b[0;34m)\u001b[0m\u001b[0;34m\u001b[0m\u001b[0;34m\u001b[0m\u001b[0m\n",
      "\u001b[0;31mModuleNotFoundError\u001b[0m: No module named 'google.colab'"
     ]
    }
   ],
   "source": [
    "# Importando a biblioteca\n",
    "from google.colab import drive\n",
    "\n",
    "# Isso irá pedir sua autorização\n",
    "drive.mount('/content/drive')\n",
    "\n",
    "# Agora, seu Drive estará disponível em: /content/drive/My Drive"
   ]
  },
  {
   "cell_type": "markdown",
   "metadata": {
    "id": "dnTseFrVwddz"
   },
   "source": [
    "### **APP Streamlit - Projeto ENERG!**"
   ]
  },
  {
   "cell_type": "code",
   "execution_count": 1,
   "metadata": {
    "colab": {
     "base_uri": "https://localhost:8080/"
    },
    "executionInfo": {
     "elapsed": 259,
     "status": "ok",
     "timestamp": 1639620141891,
     "user": {
      "displayName": "Darlan Nunes",
      "photoUrl": "https://lh3.googleusercontent.com/a-/AOh14GiTvuR3zuutCn9c9VTHiz2RkJ7-RGbhJnR4xQSUXtU=s64",
      "userId": "09349507494383749880"
     },
     "user_tz": 180
    },
    "id": "BQ9dJXg97TPP",
    "outputId": "2f5f5237-719c-45fe-bec8-653de4aa0907"
   },
   "outputs": [
    {
     "name": "stdout",
     "output_type": "stream",
     "text": [
      "Writing energi.py\n"
     ]
    }
   ],
   "source": [
    "%%writefile energi.py\n",
    "\n",
    "# Biblioteca para conexão com o banco de dados\n",
    "from configparser import ConfigParser\n",
    "import psycopg2\n",
    "\n",
    "# Biblioteca para os dados em geojson\n",
    "import json\n",
    "\n",
    "# Bibliotecas para a página do streamlit, o mapa e gráfico\n",
    "import streamlit as st\n",
    "from streamlit_folium import folium_static\n",
    "import folium\n",
    "import pandas as pd\n",
    "import numpy as np\n",
    "import matplotlib.pyplot as plt\n",
    "import plotly.express as pxi\n",
    "\n",
    "\n",
    "# --- CONEXÃO COM O BANCO DE DADOS DA UFPR ---#\n",
    "\n",
    "def config(filename='/content/drive/My Drive/db-labgeolivre_projenergi.ini', section='postgresql'):\n",
    "  # create a parser\n",
    "  parser = ConfigParser()\n",
    "  # lendo o arquivo config file\n",
    "  parser.read(filename)\n",
    "\n",
    "  # get section, default to postgresql\n",
    "  db = {}\n",
    "  if parser.has_section(section):\n",
    "    params = parser.items(section)\n",
    "    for param in params:\n",
    "      db[param[0]] = param[1]\n",
    "    else:\n",
    "      raise Exception('Section {0} not found in the {1} file'.format(section, filename))\n",
    "    return db\n",
    "\n",
    "conn = None\n",
    "try:\n",
    "  # lendo os parâmetros de conexão\n",
    "  params = config()\n",
    "  # conecta oa banco PostgreSQL server\n",
    "  print('Conectando ao banco de dados PostgreSQL...')\n",
    "  conn = psycopg2.connect(**params)\n",
    "  # Cria cursor\n",
    "  cur = conn.cursor()\n",
    "  print ('Conexao realizada com sucesso')\n",
    "  print (cur)\n",
    "except (Exception, psycopg2.DatabaseError) as error:\n",
    "  print (\"Não foi possível conectar com o Banco de Dados!\")\n",
    "  \n",
    "  \n",
    "# --- CRIAÇÃO DO MAPA --- #\n",
    "# Tamanho do mapa\n",
    "width = 850     #750\n",
    "height = 550     #450\n",
    "\n",
    "m = folium.Map(width = width,\n",
    "              height = height,\n",
    "              location = [-25.5,-49.3],\n",
    "                            zoom_start = 11,\n",
    "                            tiles = 'Cartodb Positron',\n",
    "                            attr = 'Data by ©contribuidores do OpenStreetMap (CC BY-SA 2.0)')\n",
    "\n",
    "folium.TileLayer('openstreetmap').add_to(m)\n",
    "folium.TileLayer('Stamen Toner').add_to(m)\n",
    "\n",
    "\n",
    "# --- ESTILOS --- #\n",
    "# Função que retorna o estilo dos polígonos de bairros\n",
    "def style_bairros(feature):\n",
    "    return {'fillColor': '#F0E68C', 'fillOpacity': 0.05, 'color': '#808080', 'weight' : 1   \n",
    "    }\n",
    "\n",
    "# Função que retorna o estilo dos polígonos de edificação categorizados pelo local\n",
    "def style_edif(feature):\n",
    "\treturn {'fillColor': '#CD5C5C' if feature['properties']['local'] == 'Politécnico' \n",
    "\t        else '#4682B4' if feature['properties']['local'] == 'Agrárias'\n",
    "\t        else '#228B22' if feature['properties']['local'] == 'Botânico'\n",
    "\t        else '#9932CC' if feature['properties']['local'] == 'Juvevê'\n",
    "\t        else '#FFD700' if feature['properties']['local'] == 'Campus Batel'\n",
    "          else '#800000',\n",
    "\t\t\t\t\t'fillOpacity': 0.5, 'color': '#A9A9A9', 'weight' : 1 \n",
    "\t}\n",
    "\n",
    "# Função que retorna o estilo dos polígonos selecionados\n",
    "def style_sel(feature):\n",
    "    return {'fillColor': '#0000FF', 'fillOpacity': 0.4, 'color': '#0000CD', 'weight' : 1   \n",
    "    }\n",
    "\n",
    "  \n",
    "# -- FUNÇÕES --- #\n",
    "# Funções que buscam a lista de nomes dos locais da UFPR e medidores a partir das tabelas no bd - para comboBox\n",
    "def lista_local():\n",
    "  lista_local = []\n",
    "  cur.execute (\"\"\"SELECT local FROM edificacao group by local;\"\"\")\n",
    "  fet_list = cur.fetchall()\n",
    "  conn.commit()\n",
    "  lista_local.append(\"\") # Para iniciar sem campus selecionado\n",
    "  for codlocal in fet_list:\n",
    "    lista_local.append(codlocal[0])\n",
    "  return lista_local\n",
    "\n",
    "def lista_medidor():\n",
    "  lista_medidor = []\n",
    "  cur.execute (\"\"\"SELECT nome FROM medidor group by nome;\"\"\")\n",
    "  fet_list = cur.fetchall()\n",
    "  conn.commit()\n",
    "  lista_medidor.append(\"\") # Para iniciar sem medidor selecionado\n",
    "  for nome in fet_list:\n",
    "    lista_medidor.append(nome[0])\n",
    "  return lista_medidor\n",
    "\n",
    "\n",
    "# Função seleciona a geometria dos bairros e carrega no mapa com simbologia simples\n",
    "def bairros():\n",
    "    cur.execute(\"\"\"SELECT row_to_json(fc) FROM ( SELECT 'FeatureCollection' As type, array_to_json(array_agg(f)) As features\n",
    "    FROM (SELECT 'Feature' As type, ST_AsGeoJSON(lg.geom)::json As geometry, row_to_json((SELECT l FROM (SELECT id, nome) As l)) As properties FROM bairros As lg ) As f ) As fc;\"\"\")\n",
    "    json_bairros = json.dumps(cur.fetchall())\n",
    "    conn.commit()\n",
    "    gj = folium.GeoJson(json_bairros[2:len(json_bairros)-2],\n",
    "                     name = 'Bairros Curitiba',\n",
    "                     #tooltip=folium.GeoJsonTooltip(fields=['nome']), # Desabilitado pq o nome do bairro tem no basemap\n",
    "                     style_function = lambda feature: style_bairros(feature)).add_to(m)\n",
    "\n",
    "\n",
    "# Função seleciona a geometria das edificações e carrega no mapa com simbologia categorizada\n",
    "def edif():\n",
    "  cur.execute(\"\"\"SELECT row_to_json(fc) FROM ( SELECT 'FeatureCollection' As type, array_to_json(array_agg(f)) As features\n",
    "  FROM (SELECT 'Feature' As type, ST_AsGeoJSON(lg.geom)::json As geometry, row_to_json((SELECT l FROM (SELECT gid, local, nomeedif) As l)) As properties FROM edificacao As lg ) As f ) As fc;\"\"\")\n",
    "  json_edif = json.dumps(cur.fetchall())\n",
    "  conn.commit()\n",
    "  gj = folium.GeoJson(json_edif[2:len(json_edif)-2],\n",
    "                      name = 'Edificações UFPR',\n",
    "                      tooltip=folium.GeoJsonTooltip(fields=['nomeedif'], aliases=[\"Nome edificação: \"],\n",
    "                                                    ),\n",
    "                      style_function = lambda feature: style_edif(feature)).add_to(m)\n",
    "\n",
    "\n",
    "# Função seleciona a geometria dos medidores e carrega no mapa com simbologia simples de marcador\n",
    "# Não vamos aplicar esta função, porque a que filtra por campus ficou mais interessante\n",
    "def medidor():\n",
    "  cur.execute(\"\"\"SELECT row_to_json(fc) FROM ( SELECT 'FeatureCollection' As type, array_to_json(array_agg(f)) As features\n",
    "  FROM (SELECT 'Feature' As type, ST_AsGeoJSON(lg.geom)::json As geometry, row_to_json((SELECT l FROM (SELECT id_medidor, nome) As l)) As properties FROM medidor As lg ) As f ) As fc;\"\"\")\n",
    "  json_medidor = json.dumps(cur.fetchall())\n",
    "  conn.commit()\n",
    "  layer = folium.FeatureGroup(name='Medidores de energia')\n",
    "  gj = folium.GeoJson(json_medidor[2:len(json_medidor)-2],\n",
    "                      name = 'Medidores de energia',\n",
    "                      )\n",
    "  \n",
    "  # iterate over GEOJSON features, pull out point coordinates, make Markers and add to layer\n",
    "  for feature in gj.data['features']:\n",
    "    if feature['geometry']['type'] == 'Point':\n",
    "      folium.Marker(location=list(reversed(feature['geometry']['coordinates'])),\n",
    "                    tooltip=folium.features.GeoJsonTooltip(fields=['nome'],\n",
    "                                                           icon = folium.Icon(color = \"lightgreen\", icon = \"star\"),\n",
    "      )).add_to(layer)\n",
    "  layer.add_to(m)\n",
    "\n",
    "\n",
    "# Função carrega no mapa o WMS dos medidores classificados por círculos concêntricos / O WMS não está aparecendo...\n",
    "def med_wms():\n",
    "  url = 'http://200.17.225.97/geoserver/teste/wms?service=WMS&version=1.1.0&request=GetMap&layers=teste%3Amedidor&bbox=-49.28330612182617%2C-25.457033157348633%2C-49.2309455871582%2C-25.41175651550293&width=768&height=664&srs=EPSG%3A4674&styles=&format=application/openlayers'\n",
    "  w = folium.WmsTileLayer(url=url,\n",
    "                         layers='medidor',\n",
    "                         name='Medidores por Consumo',\n",
    "                         format='image/png',\n",
    "                         shown=True\n",
    "                         )\n",
    "  w.add_to(m)\n",
    "#URL COMPLETA DO WMS MEDIDOR: http://200.17.225.97/geoserver/teste/wms?service=WMS&version=1.1.0&request=GetMap&layers=teste%3Amedidor&bbox=-49.28330612182617%2C-25.457033157348633%2C-49.2309455871582%2C-25.41175651550293&width=768&height=664&srs=EPSG%3A4674&styles=&format=application/openlayers\n",
    "\n",
    "\n",
    "# Função para selecionar geometrias na camada de medidores pelo nome / Não consegue dar zoom...\n",
    "def sel_med(comboMed):\n",
    "  cur.execute(\"\"\"SELECT row_to_json(fc) FROM ( SELECT 'FeatureCollection' As type, array_to_json(array_agg(f)) As features\n",
    "  FROM (SELECT 'Feature' As type, ST_AsGeoJSON(lg.geom)::json As geometry, row_to_json((SELECT l FROM (SELECT ST_Envelope(geom)) As l)) As properties FROM medidor As lg where nome = '%s') As f ) As fc;\"\"\" %comboMed)\n",
    "  json_med_sel = json.dumps(cur.fetchall())\n",
    "  conn.commit()\n",
    "  gjs = folium.GeoJson(json_med_sel[2:len(json_med_sel)-2],\n",
    "                      name = 'Medidor Selecionado')\n",
    "  gjs.add_to(m)\n",
    "\n",
    "\n",
    "# Função para selecionar geometrias na camada de edificação pelo local / Não consegue dar zoom...\n",
    "def sel_edif(comboLocais):\n",
    "  cur.execute(\"\"\"SELECT row_to_json(fc) FROM ( SELECT 'FeatureCollection' As type, array_to_json(array_agg(f)) As features\n",
    "  FROM (SELECT 'Feature' As type, ST_AsGeoJSON(lg.geom)::json As geometry, row_to_json((SELECT l FROM (SELECT ST_Envelope(geom)) As l)) As properties FROM edificacao As lg where local = '%s') As f ) As fc;\"\"\" %comboLocais)\n",
    "  json_edif_sel = json.dumps(cur.fetchall())\n",
    "  conn.commit()\n",
    "  gjs = folium.GeoJson(json_edif_sel[2:len(json_edif_sel)-2],\n",
    "                      name = 'Edificações Selecionadas',\n",
    "                      style_function = lambda feature: style_sel(feature))\n",
    "  gjs.add_to(m)\n",
    "\n",
    "\n",
    "# Função seleciona a geometria dos medidores dentro de um campus selecionado e carrega no mapa com simbologia simples de marcador\n",
    "# Zoom ainda não operacional...\n",
    "def filtra_medidor(comboLocais):\n",
    "  cur.execute(\"\"\"SELECT row_to_json(fc) FROM ( SELECT 'FeatureCollection' As type, array_to_json(array_agg(f)) As features\n",
    "  FROM (SELECT 'Feature' As type, ST_AsGeoJSON(lg.geom)::json As geometry, row_to_json((SELECT l FROM (SELECT id_medidor, nome, link) As l)) As properties FROM medidor As lg, campus_area As ca where ST_Intersects(lg.geom,ca.geom) AND ca.local = '%s') As f ) As fc;\"\"\" %comboLocais)\n",
    "  json_medidor = json.dumps(cur.fetchall())\n",
    "  conn.commit()\n",
    "  layer = folium.FeatureGroup(name='Medidores do campus selecionado')\n",
    "  gj = folium.GeoJson(json_medidor[2:len(json_medidor)-2],\n",
    "                      name='Medidores do campus selecionado'\n",
    "                      )\n",
    "\n",
    "  # iterate over GEOJSON features, pull out point coordinates, make Markers and add to layer\n",
    "  for feature in gj.data['features']:\n",
    "    if feature['geometry']['type'] == 'Point':\n",
    "      folium.Marker(location=list(reversed(feature['geometry']['coordinates'])),\n",
    "                    icon = folium.Icon(color = \"orange\", icon = \"star\"),\n",
    "                    ).add_to(layer)\n",
    "  layer.add_to(m)\n",
    "\n",
    "\n",
    "# Função para gerar gráfico dinâmico dos medidores\n",
    "def grafico(comboMed):\n",
    "  if not (conn is None):\n",
    "    # Nomes das colunas que indicam o mês/ano de consumo\n",
    "    lista_periodo = ['c08_2019', 'c09_2019', 'c10_2019', 'c11_2019', 'c12_2019', \n",
    "                     'c01_2020', 'c02_2020', 'c03_2020', 'c04_2020', 'c05_2020', 'c06_2020', 'c07_2020', 'c08_2020',\n",
    "                     'c09_2020', 'c10_2020', 'c11_2020', 'c12_2020', 'c01_2021', 'c02_2021', 'c03_2021', 'c04_2021']\n",
    "    \n",
    "    #consulta no BD para gerar um pandas DataFrame a partir da tabela de medidores\n",
    "    sql = (\"\"\" SELECT * FROM medidor where nome = '%s';\"\"\" %comboMed)\n",
    "\n",
    "    df_med = pd.read_sql_query(sql,conn)\n",
    "    df_med.fillna(0) #trocando valores NaN por 0\n",
    "    \n",
    "    data = df_med.iloc[0]\n",
    "    names = lista_periodo\n",
    "    values = list(data[lista_periodo])\n",
    "\n",
    "    fig = plt.figure(figsize = (13,9))\n",
    "    \n",
    "    y_pos = np.arange(len(names))\n",
    "    plt.bar(y_pos,values, align='center', width=0.8)\n",
    "    plt.xticks(y_pos, names, rotation=45)\n",
    "    plt.xlabel('Mês/Ano')\n",
    "    plt.ylabel('Consumo médio mensal (kW/h)')\n",
    "    plt.title(\"Consumo médio mensal de energia no medidor\")\n",
    "    st.pyplot(fig)\n",
    "\n",
    "\n",
    "\n",
    "# -- CÓDIGO PRINCIPAL --- #\n",
    "\n",
    "def main():\n",
    "  # este if é para não ir adiante sem a conexão estabelecida\n",
    "  if not (conn is None):\n",
    "\n",
    "    # --- CANVA --- #\n",
    "    #st.title(\"Projeto Energ! UFPR\")\n",
    "\n",
    "    # Função para carregar bairros no mapa\n",
    "    bairros()\n",
    "    # Função para carregar edificações categorizadas no mapa\n",
    "    edif()\n",
    "\n",
    "    # Função para carregar todos os medidores no mapa\n",
    "    #medidor()\n",
    "    # Função para carregar medidores em círculo concêntrico no mapa / Não está mostrando WMS corretamente\n",
    "    #med_wms()\n",
    "\n",
    "\n",
    "    # --- SIDEBAR --- #\n",
    "    st.sidebar.header('MENU')\n",
    "    with st.sidebar.expander(\"Opções de consulta\", True):\n",
    "      #Pega locais e medidores da UFPR para comboBox no widget do streamlit\n",
    "      comboLocais = st.selectbox('Selecione um campus da UFPR:', lista_local())\n",
    "      comboMed = st.selectbox('Selecione um medidor para análise:', lista_medidor())\n",
    "\n",
    "      #Executa a seleção a partir do selectbox\n",
    "      if comboLocais != '':\n",
    "        sel_edif(comboLocais) # Função para carregar edificações selecionadas no mapa\n",
    "        filtra_medidor(comboLocais) # Função para carregar medidores dentro de um campus escolhido\n",
    "      else:\n",
    "        pass\n",
    "\n",
    "      if comboMed != '':\n",
    "        sel_med(comboMed)  # Função para carregar medidor selecionado no mapa / independente do campus selecionado\n",
    "      else:\n",
    "        pass\n",
    "    \n",
    "    # Layout da seção inicial\n",
    "    row1_1, row1_2 = st.columns((1,2))\n",
    "\n",
    "    IMAGE_URL = \"https://energi.eletrica.ufpr.br/static/images/navbar/logo-colorido.svg\"\n",
    "\n",
    "    with row1_1:\n",
    "      st.title(\"Projeto Energ! UFPR\")\n",
    "      st.image(IMAGE_URL, width=100)\n",
    "\n",
    "    with row1_2:\n",
    "      st.write(\n",
    "          \"\"\"\n",
    "          ##\n",
    "          Essa é uma aplicação SIG Web no âmbito do Projeto Energ! desenvolvida para divulgação dos dados de consumo de energia elétrica nos Campi da Universidade Federal do Paraná(UFPR),\n",
    "          no município de Curitiba-PR, permitindo análise espacial e indicação dos índices de consumo registrados nos diferentes medidores da Universidade.\n",
    "          \"\"\")\n",
    "\n",
    "    #Layout da janela principal\n",
    "    row2_1, row3_1 = st.columns((2,1))\n",
    "    with row2_1:\n",
    "      st.write(\"\")\n",
    "      st.write(\"**Local da UFPR selecionado: %s**\" % (comboLocais))\n",
    "      \n",
    "      folium.LayerControl(collapsed = True).add_to(m)\n",
    "\n",
    "      #passa o folium para o streamlit\n",
    "      folium_static(m, width = width, height = height)\n",
    "      st.write(\"Base de dados: Projeto UFPR CampusMap e Projeto Energ! (2021)\")\n",
    "\n",
    "    #------- Carrega Gráfico de Barras do Medidor Selecionado -------\n",
    "    with row3_1:\n",
    "      st.write(\"\")\n",
    "      st.write(\"**Gráfico de barras do consumo médio mensal no medidor: %s**\" % (comboMed))\n",
    "      if comboMed != '':\n",
    "        grafico(comboMed)  # Função para carregar gráfico de consumo do medidor selecionado no mapa\n",
    "        st.write(\"Amplie o gráfico para melhor visualização\")\n",
    "      else:\n",
    "        pass\n",
    "     \n",
    "    \n",
    "# --- PÁGINA --- #\n",
    "# Configurações da aba da página\n",
    "img_icon = \"https://upload.wikimedia.org/wikipedia/commons/thumb/3/3a/Light-Bulb_icon_by_Till_Teenck_green.svg/120px-Light-Bulb_icon_by_Till_Teenck_green.svg.png\"\n",
    "\n",
    "PAGE_CONFIG = {\"page_title\":\"Projeto Energ! UFPR\",\"page_icon\":img_icon,\"layout\":\"wide\", \"initial_sidebar_state\":\"expanded\"}\n",
    "st.set_page_config(**PAGE_CONFIG)\n",
    "\n",
    "if __name__ == '__main__': \n",
    "  main()\n",
    "\n",
    "cur.close()\n",
    "conn.close()"
   ]
  },
  {
   "cell_type": "code",
   "execution_count": null,
   "metadata": {
    "executionInfo": {
     "elapsed": 226,
     "status": "ok",
     "timestamp": 1639620149799,
     "user": {
      "displayName": "Darlan Nunes",
      "photoUrl": "https://lh3.googleusercontent.com/a-/AOh14GiTvuR3zuutCn9c9VTHiz2RkJ7-RGbhJnR4xQSUXtU=s64",
      "userId": "09349507494383749880"
     },
     "user_tz": 180
    },
    "id": "zFRSP3z67lBp"
   },
   "outputs": [],
   "source": [
    " !streamlit run --server.port 80 energi.py &>/dev/null&"
   ]
  },
  {
   "cell_type": "code",
   "execution_count": 96,
   "metadata": {
    "colab": {
     "base_uri": "https://localhost:8080/"
    },
    "executionInfo": {
     "elapsed": 613,
     "status": "ok",
     "timestamp": 1639620152601,
     "user": {
      "displayName": "Darlan Nunes",
      "photoUrl": "https://lh3.googleusercontent.com/a-/AOh14GiTvuR3zuutCn9c9VTHiz2RkJ7-RGbhJnR4xQSUXtU=s64",
      "userId": "09349507494383749880"
     },
     "user_tz": 180
    },
    "id": "cD0pxgzo1Nkn",
    "outputId": "bb695b88-861a-4e3a-9f61-bad2adb71be4"
   },
   "outputs": [
    {
     "name": "stdout",
     "output_type": "stream",
     "text": [
      "Authtoken saved to configuration file: /root/.ngrok2/ngrok.yml\n"
     ]
    },
    {
     "data": {
      "text/plain": [
       "<NgrokTunnel: \"http://0c84-35-193-203-110.ngrok.io\" -> \"http://localhost:80\">"
      ]
     },
     "execution_count": 96,
     "metadata": {},
     "output_type": "execute_result"
    }
   ],
   "source": [
    "from pyngrok import ngrok\n",
    "!ngrok authtoken 1ypdZhRjqFqj7wK66gwA1fXIT6s_WwGc2wpbbDUYCazWgZsB\n",
    "# Setup a tunnel to the streamlit port 8501\n",
    "public_url = ngrok.connect(port='8501')\n",
    "public_url"
   ]
  },
  {
   "cell_type": "code",
   "execution_count": 94,
   "metadata": {
    "executionInfo": {
     "elapsed": 244,
     "status": "ok",
     "timestamp": 1639620144584,
     "user": {
      "displayName": "Darlan Nunes",
      "photoUrl": "https://lh3.googleusercontent.com/a-/AOh14GiTvuR3zuutCn9c9VTHiz2RkJ7-RGbhJnR4xQSUXtU=s64",
      "userId": "09349507494383749880"
     },
     "user_tz": 180
    },
    "id": "we9P6RSy3JUG"
   },
   "outputs": [],
   "source": [
    "# mata o processso do ngork para reiniciar (se necessário)\n",
    "from pyngrok import ngrok\n",
    "ngrok.kill()"
   ]
  }
 ],
 "metadata": {
  "colab": {
   "collapsed_sections": [],
   "name": "Projeto ENERG! - UFPR - Ajustes Pós Apresentação - FUNCIONANDO.ipynb",
   "provenance": [
    {
     "file_id": "1H3aohp1ERKiX-qTC4AVgFHiVhOcfmu6I",
     "timestamp": 1636631882143
    },
    {
     "file_id": "18iIk0mGqf5vW6NFot5Q0hILDtbOOVQFa",
     "timestamp": 1631807510311
    }
   ],
   "toc_visible": true
  },
  "kernelspec": {
   "display_name": "Python 3.9.7 64-bit ('env-GeoPython39': conda)",
   "language": "python",
   "name": "python397jvsc74a57bd001c9061f58d71456aa6ad3c099e815d39ec9fd4ef464880d19a0ffc48b95a85f"
  },
  "language_info": {
   "codemirror_mode": {
    "name": "ipython",
    "version": 3
   },
   "file_extension": ".py",
   "mimetype": "text/x-python",
   "name": "python",
   "nbconvert_exporter": "python",
   "pygments_lexer": "ipython3",
   "version": "3.9.7"
  }
 },
 "nbformat": 4,
 "nbformat_minor": 4
}
