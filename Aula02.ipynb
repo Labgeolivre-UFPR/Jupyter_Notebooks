{
 "cells": [
  {
   "cell_type": "markdown",
   "metadata": {},
   "source": [
    "Exemplo 1 de ligacao com o Banco de Dados - Conecta o banco e traz todos os nomes de municipio\n"
   ]
  },
  {
   "cell_type": "code",
   "execution_count": null,
   "metadata": {
    "collapsed": false
   },
   "outputs": [],
   "source": [
    "import psycopg2 \n",
    "try: \n",
    "    conn = psycopg2.connect(\"dbname='nova' port = '5432' user='postgres' host='localhost' password='postgres'\") \n",
    "except: \n",
    "    print \"Nao consigo conectar no banco de dados\"\n",
    "cur = conn.cursor()\n",
    "cur.execute(\"\"\"SELECT mun_sirgas.nm_municip FROM mun_sirgas\"\"\")\n",
    "rows = cur.fetchall()\n",
    "print \"\\nSeguem os dados:\\n\" \n",
    "for row in rows: \n",
    "    print \" \", row[0]\n",
    "conn.commit()\n",
    "cur.close()\n",
    "conn.close()"
   ]
  },
  {
   "cell_type": "markdown",
   "metadata": {},
   "source": [
    "Exemplo 2 - Criacao de uma tabela com as coordenadas digitadas pelo usuario"
   ]
  },
  {
   "cell_type": "code",
   "execution_count": 8,
   "metadata": {
    "collapsed": false
   },
   "outputs": [
    {
     "name": "stdout",
     "output_type": "stream",
     "text": [
      "Entre com a latitude do ponto em graus decimais: -25.254392\n",
      "Entre com a longitude do ponto em graus decimais:-50.024762\n",
      "Entre com o nome do ponto: Vila Velha\n",
      "A distancia do ponto Vila Velha de Curitiba e de: \n",
      "  66799.861311 metros\n"
     ]
    }
   ],
   "source": [
    "import psycopg2 \n",
    "try: \n",
    "    conn = psycopg2.connect(\"dbname='nova' port = '5432' user='postgres' host='localhost' password='postgres'\") \n",
    "except: \n",
    "    print \"Nao consigo conectar no banco de dados\"\n",
    "cur = conn.cursor()\n",
    "lat = float(raw_input(\"Entre com a latitude do ponto em graus decimais:\"))\n",
    "lon = float(raw_input(\"Entre com a longitude do ponto em graus decimais:\"))\n",
    "nome = raw_input(\"Entre com o nome do ponto: \")\n",
    "cur.execute(\"\"\"INSERT INTO pontos (nome,geometria)\n",
    "VALUES ('%s', ST_GeometryFromText ( 'POINT(%.6f %.6f)', 4674))\"\"\"% (nome, lon,lat))\n",
    "cur.execute(\"\"\"SELECT ST_Distance(ST_Transform(pontos.geometria,31982),ST_Transform(mun_sirgas.geom,31982))-25.254392 FROM mun_sirgas, pontos\n",
    "WHERE mun_sirgas.nm_municip = 'CURITIBA' and pontos.nome = '%s' \"\"\" % (nome))\n",
    "print \"A distancia do ponto %s de Curitiba e de: \" % (nome)\n",
    "rows = cur.fetchall()\n",
    "for row in rows: \n",
    "    print \" \", row[0], \"metros\"\n",
    "conn.commit()\n",
    "cur.close()\n",
    "conn.close()"
   ]
  },
  {
   "cell_type": "code",
   "execution_count": 1,
   "metadata": {
    "collapsed": true
   },
   "outputs": [],
   "source": []
  },
  {
   "cell_type": "code",
   "execution_count": null,
   "metadata": {
    "collapsed": true
   },
   "outputs": [],
   "source": []
  }
 ],
 "metadata": {
  "kernelspec": {
   "display_name": "Python 2",
   "language": "python",
   "name": "python2"
  },
  "language_info": {
   "codemirror_mode": {
    "name": "ipython",
    "version": 2
   },
   "file_extension": ".py",
   "mimetype": "text/x-python",
   "name": "python",
   "nbconvert_exporter": "python",
   "pygments_lexer": "ipython2",
   "version": "2.7.12"
  }
 },
 "nbformat": 4,
 "nbformat_minor": 2
}
